{
 "cells": [
  {
   "cell_type": "code",
   "execution_count": 112,
   "source": [
    "import requests\n",
    "import pandas as pd\n",
    "import xmltodict\n"
   ],
   "outputs": [],
   "metadata": {}
  },
  {
   "cell_type": "code",
   "execution_count": 113,
   "source": [
    "#Provides course description when provided with year, semester, course number.\n",
    "def getCourse(year, semester, subject, num):\n",
    "    r = requests.get(f'http://courses.illinois.edu/cisapp/explorer/catalog/{year}/{semester}/{subject}/{num}.xml')\n",
    "    dict_data = xmltodict.parse(r.text) #parses xml file into dictionary\n",
    "    #print(dict_data)\n",
    "    label, desc, credit, attributes = (dict_data['ns2:course']['label'], dict_data['ns2:course']['description'], dict_data['ns2:course']['creditHours'], dict_data['ns2:course']['sectionDegreeAttributes'])\n",
    "    return(f'{label}\\n{desc}\\n{credit}\\n{attributes}\\n')\n",
    "#returns course name, description, credit hours, gen-ed requirements"
   ],
   "outputs": [],
   "metadata": {}
  },
  {
   "cell_type": "code",
   "execution_count": 114,
   "source": [
    "print(getCourse(2012, 'spring', 'AAS', 100))\n"
   ],
   "outputs": [
    {
     "output_type": "stream",
     "name": "stdout",
     "text": [
      "Intro Asian American Studies\n",
      "Interdisciplinary introduction to the basic concepts and approaches in Asian American Studies. Surveys the various dimensions of Asian American experiences including history, social organization, literature, arts, and politics.\n",
      "3 hours.\n",
      "UIUC Social Sciences, and US Minority Culture(s) course.\n",
      "\n"
     ]
    }
   ],
   "metadata": {}
  }
 ],
 "metadata": {
  "orig_nbformat": 4,
  "language_info": {
   "name": "python",
   "version": "3.8.8",
   "mimetype": "text/x-python",
   "codemirror_mode": {
    "name": "ipython",
    "version": 3
   },
   "pygments_lexer": "ipython3",
   "nbconvert_exporter": "python",
   "file_extension": ".py"
  },
  "kernelspec": {
   "name": "python3",
   "display_name": "Python 3.8.8 64-bit ('base': conda)"
  },
  "interpreter": {
   "hash": "efd4964990185c13ca0e5aa6154f269c7f807e4db46fbb4728483cd33ac05b93"
  }
 },
 "nbformat": 4,
 "nbformat_minor": 2
}