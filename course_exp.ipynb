{
 "cells": [
  {
   "cell_type": "code",
   "execution_count": 112,
   "metadata": {},
   "outputs": [],
   "source": [
    "import requests\n",
    "import pandas as pd\n",
    "import xmltodict\n"
   ]
  },
  {
   "cell_type": "code",
   "execution_count": 113,
   "metadata": {},
   "outputs": [],
   "source": [
    "#Provides course description when provided with year, semester, course number.\n",
    "def getCourse(year, semester, subject, num):\n",
    "    r = requests.get(f'http://courses.illinois.edu/cisapp/explorer/catalog/{year}/{semester}/{subject}/{num}.xml')\n",
    "    dict_data = xmltodict.parse(r.text) #parses xml file into dictionary\n",
    "    #print(dict_data)\n",
    "    label, desc, credit, attributes = (dict_data['ns2:course']['label'], dict_data['ns2:course']['description'], dict_data['ns2:course']['creditHours'], dict_data['ns2:course']['sectionDegreeAttributes'])\n",
    "    return(f'{label}\\n{desc}\\n{credit}\\n{attributes}\\n')\n",
    "#returns course name, description, credit hours, gen-ed requirements"
   ]
  },
  {
   "cell_type": "code",
   "execution_count": 114,
   "metadata": {},
   "outputs": [
    {
     "name": "stdout",
     "output_type": "stream",
     "text": [
      "Intro Asian American Studies\n",
      "Interdisciplinary introduction to the basic concepts and approaches in Asian American Studies. Surveys the various dimensions of Asian American experiences including history, social organization, literature, arts, and politics.\n",
      "3 hours.\n",
      "UIUC Social Sciences, and US Minority Culture(s) course.\n",
      "\n"
     ]
    }
   ],
   "source": [
    "print(getCourse(2012, 'spring', 'AAS', 100))\n"
   ]
  },
  {
   "cell_type": "code",
   "execution_count": null,
   "metadata": {},
   "outputs": [],
   "source": [
    "def addDF(df, dict_data):\n",
    "    if df.empty:\n",
    "        df = pd.DataFrame(columns=['Course Name', 'Description', 'Credit Hours', 'Gen-eds'])\n",
    "    df.loc[len(df.index)] = [(dict_data['ns2:course']['label'], dict_data['ns2:course']['description'], dict_data['ns2:course']['creditHours'], dict_data['ns2:course']['sectionDegreeAttributes'])]"
   ]
  }
 ],
 "metadata": {
  "interpreter": {
   "hash": "efd4964990185c13ca0e5aa6154f269c7f807e4db46fbb4728483cd33ac05b93"
  },
  "kernelspec": {
   "display_name": "Python 3.8.8 64-bit ('base': conda)",
   "name": "python3"
  },
  "language_info": {
   "codemirror_mode": {
    "name": "ipython",
    "version": 3
   },
   "file_extension": ".py",
   "mimetype": "text/x-python",
   "name": "python",
   "nbconvert_exporter": "python",
   "pygments_lexer": "ipython3",
   "version": "3.8.8"
  },
  "orig_nbformat": 4
 },
 "nbformat": 4,
 "nbformat_minor": 2
}
