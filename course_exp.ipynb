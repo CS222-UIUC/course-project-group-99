{
 "cells": [
  {
   "cell_type": "code",
   "execution_count": 1,
   "source": [
    "import requests\n",
    "import pandas as pd\n",
    "import xmltodict\n"
   ],
   "outputs": [],
   "metadata": {}
  },
  {
   "cell_type": "code",
   "execution_count": 2,
   "source": [
    "#Provides course description when provided with year, semester, course number.\n",
    "def getCourse(year, semester, subject, num):\n",
    "    r = requests.get(f'http://courses.illinois.edu/cisapp/explorer/catalog/{year}/{semester}/{subject}/{num}.xml')\n",
    "    dict_data = xmltodict.parse(r.text) #parses xml file into dictionary\n",
    "    #print(dict_data)\n",
    "    label, desc, credit, attributes = (dict_data['ns2:course']['label'], dict_data['ns2:course']['description'], dict_data['ns2:course']['creditHours'], dict_data['ns2:course']['sectionDegreeAttributes'])\n",
    "    return(f'{label}\\n{desc}\\n{credit}\\n{attributes}\\n')\n",
    "#returns course name, description, credit hours, gen-ed requirements"
   ],
   "outputs": [],
   "metadata": {}
  },
  {
   "cell_type": "code",
   "execution_count": 3,
   "source": [
    "print(getCourse(2012, 'spring', 'AAS', 100))\n"
   ],
   "outputs": [
    {
     "output_type": "stream",
     "name": "stdout",
     "text": [
      "Intro Asian American Studies\n",
      "Interdisciplinary introduction to the basic concepts and approaches in Asian American Studies. Surveys the various dimensions of Asian American experiences including history, social organization, literature, arts, and politics.\n",
      "3 hours.\n",
      "UIUC Social Sciences, and US Minority Culture(s) course.\n",
      "\n"
     ]
    }
   ],
   "metadata": {}
  },
  {
   "cell_type": "code",
   "execution_count": 4,
   "source": [
    "def addDF(df, dict_data):\n",
    "    if df.empty:\n",
    "        df = pd.DataFrame(columns=['Course Name', 'Description', 'Credit Hours', 'Gen-eds'])\n",
    "    df.loc[len(df.index)] = [(dict_data['ns2:course']['label'], dict_data['ns2:course']['description'], dict_data['ns2:course']['creditHours'], dict_data['ns2:course']['sectionDegreeAttributes'])]"
   ],
   "outputs": [],
   "metadata": {}
  },
  {
   "cell_type": "code",
   "execution_count": 11,
   "source": [
    "\n",
    "    all_courses = pd.read_excel(\"wade_course_data.xlsx\")\n",
    "\n",
    "    #Number of students (Including those with Authorized Withdraw)\n",
    "    all_courses['Number Students']= all_courses['A+'] + all_courses['A'] + all_courses['A-'] + all_courses['B+'] + all_courses['B'] + all_courses['B-']+ all_courses['C+']+ all_courses['C']+ all_courses['C-']+ all_courses['D+']+ all_courses['D'] +all_courses['D-'] + all_courses['F'] + all_courses['W']\n",
    "\n",
    "    #Average GPA Calculation (Subtracts student(s) with Authrorized Withdrawl)\n",
    "    all_courses['Average GPA'] = (4.0 * all_courses['A+'] + 4.0*all_courses['A'] + 3.67* all_courses['A-'] + 3.33*all_courses['B+'] + 3*all_courses['B'] + 2.67*all_courses['B-']+ 2.33*all_courses['C+']+ 2*all_courses['C']+ 1.67*all_courses['C-']+ 1.33*all_courses['D+']+ all_courses['D'] + 0.67* all_courses['D-'] + 0 *all_courses['F']) / (all_courses['Number Students'] - all_courses['W'])\n",
    "\n",
    "    all_courses\n",
    "\n",
    "    all_courses.to_csv(\"all_courses_gpa.csv\")"
   ],
   "outputs": [],
   "metadata": {}
  }
 ],
 "metadata": {
  "interpreter": {
   "hash": "efd4964990185c13ca0e5aa6154f269c7f807e4db46fbb4728483cd33ac05b93"
  },
  "kernelspec": {
   "name": "python3",
   "display_name": "Python 3.8.8 64-bit ('base': conda)"
  },
  "language_info": {
   "codemirror_mode": {
    "name": "ipython",
    "version": 3
   },
   "file_extension": ".py",
   "mimetype": "text/x-python",
   "name": "python",
   "nbconvert_exporter": "python",
   "pygments_lexer": "ipython3",
   "version": "3.8.8"
  },
  "orig_nbformat": 4
 },
 "nbformat": 4,
 "nbformat_minor": 2
}